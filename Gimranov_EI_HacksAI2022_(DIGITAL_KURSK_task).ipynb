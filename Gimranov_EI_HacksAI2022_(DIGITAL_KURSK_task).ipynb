{
  "nbformat": 4,
  "nbformat_minor": 0,
  "metadata": {
    "colab": {
      "name": "Gimranov_EI_HacksAI2022_(DIGITAL_KURSK_task).ipynb",
      "provenance": [],
      "collapsed_sections": [
        "euNDeD1Agagf"
      ],
      "mount_file_id": "1tCmEqJ9dSmQqem83zfFvLwreyxAYM1lE",
      "authorship_tag": "ABX9TyNbD4Y9UQwvcZC7al13DVxt",
      "include_colab_link": true
    },
    "kernelspec": {
      "name": "python3",
      "display_name": "Python 3"
    },
    "language_info": {
      "name": "python"
    },
    "gpuClass": "standard",
    "accelerator": "GPU"
  },
  "cells": [
    {
      "cell_type": "markdown",
      "metadata": {
        "id": "view-in-github",
        "colab_type": "text"
      },
      "source": [
        "<a href=\"https://colab.research.google.com/github/emille42/DeepLearningNotebooks/blob/master/Gimranov_EI_HacksAI2022_(DIGITAL_KURSK_task).ipynb\" target=\"_parent\"><img src=\"https://colab.research.google.com/assets/colab-badge.svg\" alt=\"Open In Colab\"/></a>"
      ]
    },
    {
      "cell_type": "markdown",
      "source": [
        "# **Imports**"
      ],
      "metadata": {
        "id": "euNDeD1Agagf"
      }
    },
    {
      "cell_type": "code",
      "execution_count": 1,
      "metadata": {
        "id": "Sc4E-_t0gLN8"
      },
      "outputs": [],
      "source": [
        "import torch\n",
        "import torch.nn as nn\n",
        "import torch.nn.functional as F\n",
        "import torch.optim as optim\n",
        "from torch.utils.data import DataLoader, Dataset\n",
        "\n",
        "import os, copy, random, re\n",
        "import pandas as pd\n",
        "import numpy as np\n",
        "import matplotlib.pyplot as plt\n",
        "\n",
        "from torch.nn.utils.rnn import pad_sequence\n",
        "from sklearn.model_selection import train_test_split\n",
        "from collections import namedtuple\n",
        "from IPython.display import clear_output"
      ]
    },
    {
      "cell_type": "code",
      "source": [
        "import nltk\n",
        "from nltk import word_tokenize\n",
        "from nltk.corpus import stopwords\n",
        "from nltk.stem.snowball import SnowballStemmer\n",
        "import collections\n",
        "nltk.download(\"stopwords\")\n",
        "nltk.download('punkt')"
      ],
      "metadata": {
        "colab": {
          "base_uri": "https://localhost:8080/"
        },
        "id": "gqaYruDegZF4",
        "outputId": "11c65642-153e-41c4-d34d-1dbede4fe0e4"
      },
      "execution_count": 2,
      "outputs": [
        {
          "output_type": "stream",
          "name": "stderr",
          "text": [
            "[nltk_data] Downloading package stopwords to /root/nltk_data...\n",
            "[nltk_data]   Unzipping corpora/stopwords.zip.\n",
            "[nltk_data] Downloading package punkt to /root/nltk_data...\n",
            "[nltk_data]   Unzipping tokenizers/punkt.zip.\n"
          ]
        },
        {
          "output_type": "execute_result",
          "data": {
            "text/plain": [
              "True"
            ]
          },
          "metadata": {},
          "execution_count": 2
        }
      ]
    },
    {
      "cell_type": "code",
      "source": [
        "!pip install youtokentome"
      ],
      "metadata": {
        "colab": {
          "base_uri": "https://localhost:8080/"
        },
        "id": "Lcdu2MaddA51",
        "outputId": "b22be4f0-23e5-4030-be7b-8ef08a053bec"
      },
      "execution_count": 3,
      "outputs": [
        {
          "output_type": "stream",
          "name": "stdout",
          "text": [
            "Looking in indexes: https://pypi.org/simple, https://us-python.pkg.dev/colab-wheels/public/simple/\n",
            "Collecting youtokentome\n",
            "  Downloading youtokentome-1.0.6-cp37-cp37m-manylinux2010_x86_64.whl (1.7 MB)\n",
            "\u001b[K     |████████████████████████████████| 1.7 MB 19.6 MB/s \n",
            "\u001b[?25hRequirement already satisfied: Click>=7.0 in /usr/local/lib/python3.7/dist-packages (from youtokentome) (7.1.2)\n",
            "Installing collected packages: youtokentome\n",
            "Successfully installed youtokentome-1.0.6\n"
          ]
        }
      ]
    },
    {
      "cell_type": "code",
      "source": [
        "import youtokentome as yttm"
      ],
      "metadata": {
        "id": "J-O4rKPOdG2u"
      },
      "execution_count": 4,
      "outputs": []
    },
    {
      "cell_type": "code",
      "source": [
        "device = 'cuda:0' if torch.cuda.is_available() else 'cpu'\n",
        "device"
      ],
      "metadata": {
        "colab": {
          "base_uri": "https://localhost:8080/",
          "height": 0
        },
        "id": "VYwNRBnShASa",
        "outputId": "83bd83b6-fe16-4757-adb4-2b3d5b54e84d"
      },
      "execution_count": 5,
      "outputs": [
        {
          "output_type": "execute_result",
          "data": {
            "text/plain": [
              "'cuda:0'"
            ],
            "application/vnd.google.colaboratory.intrinsic+json": {
              "type": "string"
            }
          },
          "metadata": {},
          "execution_count": 5
        }
      ]
    },
    {
      "cell_type": "code",
      "source": [
        "SEED = 2022\n",
        "random.seed(SEED)\n",
        "np.random.seed(SEED)\n",
        "torch.manual_seed(SEED)\n",
        "torch.cuda.manual_seed(SEED)\n",
        "torch.backends.cudnn.deterministic = True"
      ],
      "metadata": {
        "id": "d2d07ZDSg-He"
      },
      "execution_count": 6,
      "outputs": []
    },
    {
      "cell_type": "markdown",
      "source": [
        "# **Utils**"
      ],
      "metadata": {
        "id": "VhENqySgnGdX"
      }
    },
    {
      "cell_type": "code",
      "source": [
        "def build_vocab(texts, min_wrd_count=1, pad_sym=None):\n",
        "  word_counts = collections.defaultdict(int)\n",
        "  for text in texts:\n",
        "    for word in word_tokenize(text):\n",
        "      word_counts[word] +=1  \n",
        "   \n",
        "  word_counts = {word : count for word, count in word_counts.items() if count >= min_wrd_count}\n",
        "  vocab = {word: idx+1 for idx, word in enumerate(word_counts.keys())}\n",
        "  if pad_sym is not None:\n",
        "    vocab[pad_sym] = len(vocab)\n",
        "  return vocab, word_counts"
      ],
      "metadata": {
        "id": "xinM6wmsnJw1"
      },
      "execution_count": 7,
      "outputs": []
    },
    {
      "cell_type": "code",
      "source": [
        "def process_text(text, regx=r'[а-я]+'):\n",
        "    regex = re.compile(regx)\n",
        "    text = regex.findall(str(text).lower())\n",
        "\n",
        "    ru_stemmer = SnowballStemmer('russian')\n",
        "    russian_stopwords = stopwords.words(\"russian\")\n",
        "\n",
        "    text = [ru_stemmer.stem(word) for word in text if word not in russian_stopwords]\n",
        "    text = [word for word in text if len(word) > 1]\n",
        "    text = \" \".join(text)\n",
        "    return text"
      ],
      "metadata": {
        "id": "u29KqJt8nN9q"
      },
      "execution_count": 8,
      "outputs": []
    },
    {
      "cell_type": "markdown",
      "source": [
        "# **Dataset Exploration**"
      ],
      "metadata": {
        "id": "XDmJGd3shExP"
      }
    },
    {
      "cell_type": "code",
      "source": [
        "train_dataset = pd.read_csv(\"/content/drive/MyDrive/hacksAI2022/Datasets/DIGITAL_KURSK/train_dataset_train.csv\")\n",
        "test_dataset = pd.read_csv(\"/content/drive/MyDrive/hacksAI2022/Datasets/DIGITAL_KURSK/test_dataset_test.csv\")"
      ],
      "metadata": {
        "id": "lubyyoUEhI_T"
      },
      "execution_count": 9,
      "outputs": []
    },
    {
      "cell_type": "code",
      "source": [
        "print(train_dataset.shape)\n",
        "train_dataset.head(3)"
      ],
      "metadata": {
        "colab": {
          "base_uri": "https://localhost:8080/",
          "height": 257
        },
        "id": "Z5aBCASwh1op",
        "outputId": "8cf224eb-143e-483a-8d19-336031a3b6b8"
      },
      "execution_count": 10,
      "outputs": [
        {
          "output_type": "stream",
          "name": "stdout",
          "text": [
            "(2000, 5)\n"
          ]
        },
        {
          "output_type": "execute_result",
          "data": {
            "text/plain": [
              "     id                                    Текст Сообщения  \\\n",
              "0  2246  Помогите начальник Льговского рэс не реагирует...   \n",
              "1   380  <p>По фасаду дома по адресу ул. Урицкого 22 пр...   \n",
              "2  2240  Агресивные собаки. На радуге там стая из подро...   \n",
              "\n",
              "                                            Тематика  \\\n",
              "0  Нарушения, связанные с содержанием электросети...   \n",
              "1                                  Аварийные деревья   \n",
              "2                              Безнадзорные животные   \n",
              "\n",
              "                Ответственное лицо  Категория  \n",
              "0  Администрация Льговского района          3  \n",
              "1      Администрация города Курска          3  \n",
              "2      Администрация города Курска          1  "
            ],
            "text/html": [
              "\n",
              "  <div id=\"df-d43c2504-927d-4bb1-8c7f-0cd9a88c18f5\">\n",
              "    <div class=\"colab-df-container\">\n",
              "      <div>\n",
              "<style scoped>\n",
              "    .dataframe tbody tr th:only-of-type {\n",
              "        vertical-align: middle;\n",
              "    }\n",
              "\n",
              "    .dataframe tbody tr th {\n",
              "        vertical-align: top;\n",
              "    }\n",
              "\n",
              "    .dataframe thead th {\n",
              "        text-align: right;\n",
              "    }\n",
              "</style>\n",
              "<table border=\"1\" class=\"dataframe\">\n",
              "  <thead>\n",
              "    <tr style=\"text-align: right;\">\n",
              "      <th></th>\n",
              "      <th>id</th>\n",
              "      <th>Текст Сообщения</th>\n",
              "      <th>Тематика</th>\n",
              "      <th>Ответственное лицо</th>\n",
              "      <th>Категория</th>\n",
              "    </tr>\n",
              "  </thead>\n",
              "  <tbody>\n",
              "    <tr>\n",
              "      <th>0</th>\n",
              "      <td>2246</td>\n",
              "      <td>Помогите начальник Льговского рэс не реагирует...</td>\n",
              "      <td>Нарушения, связанные с содержанием электросети...</td>\n",
              "      <td>Администрация Льговского района</td>\n",
              "      <td>3</td>\n",
              "    </tr>\n",
              "    <tr>\n",
              "      <th>1</th>\n",
              "      <td>380</td>\n",
              "      <td>&lt;p&gt;По фасаду дома по адресу ул. Урицкого 22 пр...</td>\n",
              "      <td>Аварийные деревья</td>\n",
              "      <td>Администрация города Курска</td>\n",
              "      <td>3</td>\n",
              "    </tr>\n",
              "    <tr>\n",
              "      <th>2</th>\n",
              "      <td>2240</td>\n",
              "      <td>Агресивные собаки. На радуге там стая из подро...</td>\n",
              "      <td>Безнадзорные животные</td>\n",
              "      <td>Администрация города Курска</td>\n",
              "      <td>1</td>\n",
              "    </tr>\n",
              "  </tbody>\n",
              "</table>\n",
              "</div>\n",
              "      <button class=\"colab-df-convert\" onclick=\"convertToInteractive('df-d43c2504-927d-4bb1-8c7f-0cd9a88c18f5')\"\n",
              "              title=\"Convert this dataframe to an interactive table.\"\n",
              "              style=\"display:none;\">\n",
              "        \n",
              "  <svg xmlns=\"http://www.w3.org/2000/svg\" height=\"24px\"viewBox=\"0 0 24 24\"\n",
              "       width=\"24px\">\n",
              "    <path d=\"M0 0h24v24H0V0z\" fill=\"none\"/>\n",
              "    <path d=\"M18.56 5.44l.94 2.06.94-2.06 2.06-.94-2.06-.94-.94-2.06-.94 2.06-2.06.94zm-11 1L8.5 8.5l.94-2.06 2.06-.94-2.06-.94L8.5 2.5l-.94 2.06-2.06.94zm10 10l.94 2.06.94-2.06 2.06-.94-2.06-.94-.94-2.06-.94 2.06-2.06.94z\"/><path d=\"M17.41 7.96l-1.37-1.37c-.4-.4-.92-.59-1.43-.59-.52 0-1.04.2-1.43.59L10.3 9.45l-7.72 7.72c-.78.78-.78 2.05 0 2.83L4 21.41c.39.39.9.59 1.41.59.51 0 1.02-.2 1.41-.59l7.78-7.78 2.81-2.81c.8-.78.8-2.07 0-2.86zM5.41 20L4 18.59l7.72-7.72 1.47 1.35L5.41 20z\"/>\n",
              "  </svg>\n",
              "      </button>\n",
              "      \n",
              "  <style>\n",
              "    .colab-df-container {\n",
              "      display:flex;\n",
              "      flex-wrap:wrap;\n",
              "      gap: 12px;\n",
              "    }\n",
              "\n",
              "    .colab-df-convert {\n",
              "      background-color: #E8F0FE;\n",
              "      border: none;\n",
              "      border-radius: 50%;\n",
              "      cursor: pointer;\n",
              "      display: none;\n",
              "      fill: #1967D2;\n",
              "      height: 32px;\n",
              "      padding: 0 0 0 0;\n",
              "      width: 32px;\n",
              "    }\n",
              "\n",
              "    .colab-df-convert:hover {\n",
              "      background-color: #E2EBFA;\n",
              "      box-shadow: 0px 1px 2px rgba(60, 64, 67, 0.3), 0px 1px 3px 1px rgba(60, 64, 67, 0.15);\n",
              "      fill: #174EA6;\n",
              "    }\n",
              "\n",
              "    [theme=dark] .colab-df-convert {\n",
              "      background-color: #3B4455;\n",
              "      fill: #D2E3FC;\n",
              "    }\n",
              "\n",
              "    [theme=dark] .colab-df-convert:hover {\n",
              "      background-color: #434B5C;\n",
              "      box-shadow: 0px 1px 3px 1px rgba(0, 0, 0, 0.15);\n",
              "      filter: drop-shadow(0px 1px 2px rgba(0, 0, 0, 0.3));\n",
              "      fill: #FFFFFF;\n",
              "    }\n",
              "  </style>\n",
              "\n",
              "      <script>\n",
              "        const buttonEl =\n",
              "          document.querySelector('#df-d43c2504-927d-4bb1-8c7f-0cd9a88c18f5 button.colab-df-convert');\n",
              "        buttonEl.style.display =\n",
              "          google.colab.kernel.accessAllowed ? 'block' : 'none';\n",
              "\n",
              "        async function convertToInteractive(key) {\n",
              "          const element = document.querySelector('#df-d43c2504-927d-4bb1-8c7f-0cd9a88c18f5');\n",
              "          const dataTable =\n",
              "            await google.colab.kernel.invokeFunction('convertToInteractive',\n",
              "                                                     [key], {});\n",
              "          if (!dataTable) return;\n",
              "\n",
              "          const docLinkHtml = 'Like what you see? Visit the ' +\n",
              "            '<a target=\"_blank\" href=https://colab.research.google.com/notebooks/data_table.ipynb>data table notebook</a>'\n",
              "            + ' to learn more about interactive tables.';\n",
              "          element.innerHTML = '';\n",
              "          dataTable['output_type'] = 'display_data';\n",
              "          await google.colab.output.renderOutput(dataTable, element);\n",
              "          const docLink = document.createElement('div');\n",
              "          docLink.innerHTML = docLinkHtml;\n",
              "          element.appendChild(docLink);\n",
              "        }\n",
              "      </script>\n",
              "    </div>\n",
              "  </div>\n",
              "  "
            ]
          },
          "metadata": {},
          "execution_count": 10
        }
      ]
    },
    {
      "cell_type": "code",
      "source": [
        "print(test_dataset.shape)\n",
        "test_dataset.head(3)"
      ],
      "metadata": {
        "colab": {
          "base_uri": "https://localhost:8080/",
          "height": 257
        },
        "id": "aWx2INwXh9l5",
        "outputId": "d1163e0f-3e60-4275-fefa-0bc806e6d215"
      },
      "execution_count": 11,
      "outputs": [
        {
          "output_type": "stream",
          "name": "stdout",
          "text": [
            "(1000, 4)\n"
          ]
        },
        {
          "output_type": "execute_result",
          "data": {
            "text/plain": [
              "     id                                    Текст Сообщения  \\\n",
              "0   843  <p>Здравствуйте. На улице Мира &nbsp;было заме...   \n",
              "1  1422  <p>Уже вторую неделю не горит уличное освещени...   \n",
              "2  2782  Не работает освещение во дворе дома 11а по Эне...   \n",
              "\n",
              "                          Тематика  \\\n",
              "0  Неработающее наружное освещение   \n",
              "1  Неработающее наружное освещение   \n",
              "2  Неработающее наружное освещение   \n",
              "\n",
              "                                  Ответственное лицо  \n",
              "0                 Администрация Курчатовского района  \n",
              "1  Комитет жилищно-коммунального хозяйства города...  \n",
              "2  Комитет жилищно-коммунального хозяйства города...  "
            ],
            "text/html": [
              "\n",
              "  <div id=\"df-fedf64b5-694b-4552-9616-6f6947f6b1b9\">\n",
              "    <div class=\"colab-df-container\">\n",
              "      <div>\n",
              "<style scoped>\n",
              "    .dataframe tbody tr th:only-of-type {\n",
              "        vertical-align: middle;\n",
              "    }\n",
              "\n",
              "    .dataframe tbody tr th {\n",
              "        vertical-align: top;\n",
              "    }\n",
              "\n",
              "    .dataframe thead th {\n",
              "        text-align: right;\n",
              "    }\n",
              "</style>\n",
              "<table border=\"1\" class=\"dataframe\">\n",
              "  <thead>\n",
              "    <tr style=\"text-align: right;\">\n",
              "      <th></th>\n",
              "      <th>id</th>\n",
              "      <th>Текст Сообщения</th>\n",
              "      <th>Тематика</th>\n",
              "      <th>Ответственное лицо</th>\n",
              "    </tr>\n",
              "  </thead>\n",
              "  <tbody>\n",
              "    <tr>\n",
              "      <th>0</th>\n",
              "      <td>843</td>\n",
              "      <td>&lt;p&gt;Здравствуйте. На улице Мира &amp;nbsp;было заме...</td>\n",
              "      <td>Неработающее наружное освещение</td>\n",
              "      <td>Администрация Курчатовского района</td>\n",
              "    </tr>\n",
              "    <tr>\n",
              "      <th>1</th>\n",
              "      <td>1422</td>\n",
              "      <td>&lt;p&gt;Уже вторую неделю не горит уличное освещени...</td>\n",
              "      <td>Неработающее наружное освещение</td>\n",
              "      <td>Комитет жилищно-коммунального хозяйства города...</td>\n",
              "    </tr>\n",
              "    <tr>\n",
              "      <th>2</th>\n",
              "      <td>2782</td>\n",
              "      <td>Не работает освещение во дворе дома 11а по Эне...</td>\n",
              "      <td>Неработающее наружное освещение</td>\n",
              "      <td>Комитет жилищно-коммунального хозяйства города...</td>\n",
              "    </tr>\n",
              "  </tbody>\n",
              "</table>\n",
              "</div>\n",
              "      <button class=\"colab-df-convert\" onclick=\"convertToInteractive('df-fedf64b5-694b-4552-9616-6f6947f6b1b9')\"\n",
              "              title=\"Convert this dataframe to an interactive table.\"\n",
              "              style=\"display:none;\">\n",
              "        \n",
              "  <svg xmlns=\"http://www.w3.org/2000/svg\" height=\"24px\"viewBox=\"0 0 24 24\"\n",
              "       width=\"24px\">\n",
              "    <path d=\"M0 0h24v24H0V0z\" fill=\"none\"/>\n",
              "    <path d=\"M18.56 5.44l.94 2.06.94-2.06 2.06-.94-2.06-.94-.94-2.06-.94 2.06-2.06.94zm-11 1L8.5 8.5l.94-2.06 2.06-.94-2.06-.94L8.5 2.5l-.94 2.06-2.06.94zm10 10l.94 2.06.94-2.06 2.06-.94-2.06-.94-.94-2.06-.94 2.06-2.06.94z\"/><path d=\"M17.41 7.96l-1.37-1.37c-.4-.4-.92-.59-1.43-.59-.52 0-1.04.2-1.43.59L10.3 9.45l-7.72 7.72c-.78.78-.78 2.05 0 2.83L4 21.41c.39.39.9.59 1.41.59.51 0 1.02-.2 1.41-.59l7.78-7.78 2.81-2.81c.8-.78.8-2.07 0-2.86zM5.41 20L4 18.59l7.72-7.72 1.47 1.35L5.41 20z\"/>\n",
              "  </svg>\n",
              "      </button>\n",
              "      \n",
              "  <style>\n",
              "    .colab-df-container {\n",
              "      display:flex;\n",
              "      flex-wrap:wrap;\n",
              "      gap: 12px;\n",
              "    }\n",
              "\n",
              "    .colab-df-convert {\n",
              "      background-color: #E8F0FE;\n",
              "      border: none;\n",
              "      border-radius: 50%;\n",
              "      cursor: pointer;\n",
              "      display: none;\n",
              "      fill: #1967D2;\n",
              "      height: 32px;\n",
              "      padding: 0 0 0 0;\n",
              "      width: 32px;\n",
              "    }\n",
              "\n",
              "    .colab-df-convert:hover {\n",
              "      background-color: #E2EBFA;\n",
              "      box-shadow: 0px 1px 2px rgba(60, 64, 67, 0.3), 0px 1px 3px 1px rgba(60, 64, 67, 0.15);\n",
              "      fill: #174EA6;\n",
              "    }\n",
              "\n",
              "    [theme=dark] .colab-df-convert {\n",
              "      background-color: #3B4455;\n",
              "      fill: #D2E3FC;\n",
              "    }\n",
              "\n",
              "    [theme=dark] .colab-df-convert:hover {\n",
              "      background-color: #434B5C;\n",
              "      box-shadow: 0px 1px 3px 1px rgba(0, 0, 0, 0.15);\n",
              "      filter: drop-shadow(0px 1px 2px rgba(0, 0, 0, 0.3));\n",
              "      fill: #FFFFFF;\n",
              "    }\n",
              "  </style>\n",
              "\n",
              "      <script>\n",
              "        const buttonEl =\n",
              "          document.querySelector('#df-fedf64b5-694b-4552-9616-6f6947f6b1b9 button.colab-df-convert');\n",
              "        buttonEl.style.display =\n",
              "          google.colab.kernel.accessAllowed ? 'block' : 'none';\n",
              "\n",
              "        async function convertToInteractive(key) {\n",
              "          const element = document.querySelector('#df-fedf64b5-694b-4552-9616-6f6947f6b1b9');\n",
              "          const dataTable =\n",
              "            await google.colab.kernel.invokeFunction('convertToInteractive',\n",
              "                                                     [key], {});\n",
              "          if (!dataTable) return;\n",
              "\n",
              "          const docLinkHtml = 'Like what you see? Visit the ' +\n",
              "            '<a target=\"_blank\" href=https://colab.research.google.com/notebooks/data_table.ipynb>data table notebook</a>'\n",
              "            + ' to learn more about interactive tables.';\n",
              "          element.innerHTML = '';\n",
              "          dataTable['output_type'] = 'display_data';\n",
              "          await google.colab.output.renderOutput(dataTable, element);\n",
              "          const docLink = document.createElement('div');\n",
              "          docLink.innerHTML = docLinkHtml;\n",
              "          element.appendChild(docLink);\n",
              "        }\n",
              "      </script>\n",
              "    </div>\n",
              "  </div>\n",
              "  "
            ]
          },
          "metadata": {},
          "execution_count": 11
        }
      ]
    },
    {
      "cell_type": "code",
      "source": [
        "themes_train = train_dataset['Тематика'].unique()\n",
        "themes_test = test_dataset['Тематика'].unique()\n",
        "print(\"Уникальных тематик в тренировочных данных: \", len(themes_train))\n",
        "print(\"Уникальных тематик в тестовых данных: \", len(themes_test))\n",
        "print(\"Общих тематик в тестовых и тренировочных данных: \", len(np.intersect1d(themes_test, themes_train)))"
      ],
      "metadata": {
        "colab": {
          "base_uri": "https://localhost:8080/"
        },
        "id": "QXBDom0viv9Y",
        "outputId": "98987d0c-da09-40f4-ea74-5b6de2b33fb2"
      },
      "execution_count": 12,
      "outputs": [
        {
          "output_type": "stream",
          "name": "stdout",
          "text": [
            "Уникальных тематик в тренировочных данных:  161\n",
            "Уникальных тематик в тестовых данных:  119\n",
            "Общих тематик в тестовых и тренировочных данных:  107\n"
          ]
        }
      ]
    },
    {
      "cell_type": "code",
      "source": [
        "organ_train = train_dataset['Ответственное лицо'].unique()\n",
        "organ_test = test_dataset['Ответственное лицо'].unique()\n",
        "print(\"Уникальных отв. лиц в тренировочных данных: \", len(organ_train))\n",
        "print(\"Уникальных отв. лиц в тестовых данных: \", len(organ_test))\n",
        "print(\"Общих отв. лиц в тестовых и тренировочных данных: \", len(np.intersect1d(organ_test, organ_train)))"
      ],
      "metadata": {
        "colab": {
          "base_uri": "https://localhost:8080/"
        },
        "id": "uz6T-2Psj850",
        "outputId": "4aedbb36-7060-4ba5-afdc-7dcd8c84ad15"
      },
      "execution_count": 13,
      "outputs": [
        {
          "output_type": "stream",
          "name": "stdout",
          "text": [
            "Уникальных отв. лиц в тренировочных данных:  75\n",
            "Уникальных отв. лиц в тестовых данных:  64\n",
            "Общих отв. лиц в тестовых и тренировочных данных:  56\n"
          ]
        }
      ]
    },
    {
      "cell_type": "code",
      "source": [
        "train_data = train_dataset.drop(['Ответственное лицо'], axis =1)"
      ],
      "metadata": {
        "id": "CrHKIIqItJ4W"
      },
      "execution_count": 14,
      "outputs": []
    },
    {
      "cell_type": "code",
      "source": [
        "# Выборка несбалансирована:\n",
        "print(\"Всего классов: \", len(train_dataset['Категория'].unique()))\n",
        "train_dataset['Категория'].value_counts()"
      ],
      "metadata": {
        "colab": {
          "base_uri": "https://localhost:8080/"
        },
        "id": "SKvHCL5wiaS-",
        "outputId": "9711e5c3-a55d-439f-d8e8-14e607407e4f"
      },
      "execution_count": 15,
      "outputs": [
        {
          "output_type": "stream",
          "name": "stdout",
          "text": [
            "Всего классов:  17\n"
          ]
        },
        {
          "output_type": "execute_result",
          "data": {
            "text/plain": [
              "3     954\n",
              "0     478\n",
              "16    149\n",
              "8     139\n",
              "4     108\n",
              "10     48\n",
              "7      27\n",
              "1      25\n",
              "11     19\n",
              "5      12\n",
              "13     11\n",
              "6      10\n",
              "15      7\n",
              "9       5\n",
              "14      4\n",
              "2       3\n",
              "12      1\n",
              "Name: Категория, dtype: int64"
            ]
          },
          "metadata": {},
          "execution_count": 15
        }
      ]
    },
    {
      "cell_type": "code",
      "source": [
        "# Предобработка текста\n",
        "train_data['Текст Сообщения'] = train_data['Текст Сообщения'].apply(process_text)\n",
        "test_dataset['Текст Сообщения'] = test_dataset['Текст Сообщения'].apply(process_text)"
      ],
      "metadata": {
        "id": "v_jjSkuCnfRz"
      },
      "execution_count": 16,
      "outputs": []
    },
    {
      "cell_type": "code",
      "source": [
        "train_data['Тематика'] = train_data['Тематика'].apply(process_text)\n",
        "test_dataset['Тематика'] = test_dataset['Тематика'].apply(process_text)"
      ],
      "metadata": {
        "id": "gvnVHGwrDNow"
      },
      "execution_count": 17,
      "outputs": []
    },
    {
      "cell_type": "code",
      "source": [
        "vocab, word_counts = build_vocab(train_data['Тематика'])\n",
        "print(len(vocab))"
      ],
      "metadata": {
        "colab": {
          "base_uri": "https://localhost:8080/"
        },
        "id": "mJRhKyNyDd0d",
        "outputId": "3fa3f6cb-904c-4f84-a1d9-ea8876f37b1d"
      },
      "execution_count": 18,
      "outputs": [
        {
          "output_type": "stream",
          "name": "stdout",
          "text": [
            "298\n"
          ]
        }
      ]
    },
    {
      "cell_type": "code",
      "source": [
        "# Просмотрим словарь\n",
        "vocab, word_counts = build_vocab(train_data['Текст Сообщения'])\n",
        "word_counts_sorted = {k: v for k, v in sorted(word_counts.items(), key=lambda item: item[1], reverse=True)}\n",
        "print(len(vocab))\n",
        "# print(vocab)\n",
        "# print(word_counts)\n",
        "# print(word_counts_sorted)"
      ],
      "metadata": {
        "id": "0TH4gveooAAQ"
      },
      "execution_count": null,
      "outputs": []
    },
    {
      "cell_type": "markdown",
      "source": [
        "# **Torch Utils**"
      ],
      "metadata": {
        "id": "vxceLATZFyTz"
      }
    },
    {
      "cell_type": "code",
      "source": [
        "# Функция для обучения модели\n",
        "def train_model(model,epochs, optimizer, criterion, tr_dataloader,val_dataloader=None, metric_func=None, device='cpu'):\n",
        "  model.to(device)\n",
        "  \n",
        "  history = []\n",
        "  history_val = []\n",
        "  history_metric = []\n",
        "  history_metric_val = []\n",
        "  best_model = copy.deepcopy(model)\n",
        "  best_loss = 10000\n",
        "  try:\n",
        "      for i in range(epochs):\n",
        "        \n",
        "        # TRAIN\n",
        "        epoch_losses = []\n",
        "        epoch_metric = []\n",
        "        for batch_1, batch_2, targets in tr_dataloader:\n",
        "          model.train()\n",
        "       \n",
        "          batch_1 = batch_1.to(device)\n",
        "          batch_2 = batch_2.to(device)\n",
        "          targets = targets.to(device)\n",
        "\n",
        "          pred = model(batch_1, batch_2)\n",
        "          loss = criterion(pred, targets)\n",
        "\n",
        "          optimizer.zero_grad()\n",
        "          loss.backward(retain_graph=True)\n",
        "          optimizer.step()\n",
        "\n",
        "          if metric_func:\n",
        "            metric = metric_func(targets.detach().cpu().numpy(), pred.detach().cpu().numpy())\n",
        "            epoch_metric.append(metric)\n",
        "\n",
        "          # torch.nn.utils.clip_grad_norm_(model.parameters(), max_norm=1)\n",
        "    \n",
        "          loss_val = loss.cpu().data.numpy()\n",
        "          epoch_losses.append(loss_val)        \n",
        "\n",
        "        # VALIDATION\n",
        "        val_losses = []\n",
        "        val_metric = []\n",
        "        model.eval()\n",
        "        for batch_1, batch_2, targets in val_dataloader:\n",
        "          with torch.no_grad():\n",
        "            batch_1 = batch_1.to(device)\n",
        "            batch_2 = batch_2.to(device)\n",
        "            targets = targets.to(device)\n",
        "\n",
        "            pred = model(batch_1, batch_2)\n",
        "\n",
        "            loss = criterion(pred, targets)\n",
        "            loss_val = loss.cpu().data.numpy()\n",
        "            val_losses.append(loss_val)\n",
        "\n",
        "            if metric_func:\n",
        "              metric = metric_func(targets.detach().cpu().numpy(), pred.detach().cpu().numpy())        \n",
        "              val_metric.append(metric)\n",
        "\n",
        "        clear_output(True)\n",
        "        mean_loss = np.mean(epoch_losses)\n",
        "        history.append(mean_loss)        \n",
        "        plt.plot(history, label='train loss')\n",
        "        \n",
        "        mean_val_loss = np.mean(val_losses)\n",
        "        history_val.append(mean_val_loss)\n",
        "        plt.plot(history_val, label='val loss')\n",
        "\n",
        "        plt.legend()\n",
        "        plt.show()\n",
        "\n",
        "        if metric_func:  \n",
        "          mean_metric = np.mean(epoch_metric) \n",
        "          history_metric.append(mean_metric)  \n",
        "          plt.plot(history_metric, label='Metric train')\n",
        "\n",
        "          mean_val_metric = np.mean(val_metric)\n",
        "          history_metric_val.append(mean_val_metric)\n",
        "          plt.plot(history_metric_val, label='Metric val')\n",
        "\n",
        "          plt.legend()\n",
        "          plt.show()\n",
        "          \n",
        "        print(f\"Epoch: {i}. Mean train Loss:{mean_loss} \")\n",
        "        print(f\"Epoch: {i}. Mean val Loss:{mean_val_loss} \")\n",
        "\n",
        "        if mean_val_loss < best_loss:\n",
        "          best_loss = copy.deepcopy(mean_val_loss)\n",
        "          best_model = copy.deepcopy(model)\n",
        "          print(f\"Find new best model: {mean_val_loss}\")\n",
        "\n",
        "  except KeyboardInterrupt:\n",
        "    print(\"Stopped by user!\")\n",
        "    return best_model, best_loss \n",
        "    \n",
        "  return best_model, best_loss   "
      ],
      "metadata": {
        "id": "SsFgfLtmHDrx"
      },
      "execution_count": 20,
      "outputs": []
    },
    {
      "cell_type": "code",
      "source": [
        "# Функция для предсказания классов\n",
        "def predict_with_model(model, dataloader):\n",
        "  model.eval()\n",
        "  predictions = []\n",
        "  with torch.no_grad():\n",
        "    for batch_1, batch_2 in dataloader:\n",
        "      batch_1 = batch_1.to(device)\n",
        "      batch_2 = batch_2.to(device)\n",
        "      preds = model(batch_1, batch_2, predict=True)\n",
        "      \n",
        "      preds = preds.detach().cpu().numpy()\n",
        "      for pred in preds:\n",
        "        predictions.append(pred.argmax())\n",
        "  return predictions"
      ],
      "metadata": {
        "id": "bNZPDBpAG6qp"
      },
      "execution_count": 21,
      "outputs": []
    },
    {
      "cell_type": "code",
      "source": [
        "# Класс для работы с датасетом\n",
        "class TwoTextsDataset(Dataset):\n",
        "  def __init__(self, texts1,texts2, targets=None):\n",
        "    self.texts1 = texts1\n",
        "    self.texts2 = texts2\n",
        "    self.targets = targets\n",
        "\n",
        "  def __len__(self):\n",
        "    return len(self.texts1)\n",
        "  def __getitem__(self, index):\n",
        "      texts1 = self.texts1[index]\n",
        "      texts2 = self.texts2[index]\n",
        "      \n",
        "      if self.targets is None:\n",
        "        return texts1,texts2\n",
        "      else:\n",
        "        target = self.targets[index]\n",
        "        return texts1,texts2, target"
      ],
      "metadata": {
        "id": "MavzulyuYFcF"
      },
      "execution_count": 22,
      "outputs": []
    },
    {
      "cell_type": "markdown",
      "source": [
        "# **Torch Modules**"
      ],
      "metadata": {
        "id": "ChY0wa9NhXsA"
      }
    },
    {
      "cell_type": "code",
      "source": [
        "# В этом разделе - модули для создания нейросети\n",
        "class SimpleAttention(nn.Module):\n",
        "  def __init__(self, in_ch, out_ch=1, kernel_size=3):\n",
        "    super().__init__()\n",
        "    self.softmax = nn.Softmax(dim=-1)\n",
        "    self.convAtt = nn.Conv1d(in_channels=in_ch, out_channels=1, kernel_size=kernel_size, padding = kernel_size//2)\n",
        "\n",
        "  def forward(self, x):\n",
        "    # input: batch_size x features_num x seq_len\n",
        "    att = self.convAtt(x) # batch_size x out_ch x seq_len\n",
        "    att = self.softmax(att) # AttentionScores\n",
        "    out = torch.matmul(att,x.permute(0,2,1))\n",
        "    # out: batch x 1 x features_num\n",
        "    return out"
      ],
      "metadata": {
        "id": "8pYtq8zWbiA_"
      },
      "execution_count": 23,
      "outputs": []
    },
    {
      "cell_type": "code",
      "source": [
        "class SelfAttention(nn.Module):\n",
        "  def __init__(self, in_ch, out_ch, kernel_size=3):\n",
        "    super().__init__()\n",
        "    self.key_gen = nn.Conv1d(in_channels=in_ch, out_channels=out_ch, kernel_size=kernel_size, padding = kernel_size //2)\n",
        "    self.query_gen = nn.Conv1d(in_channels=in_ch, out_channels=out_ch, kernel_size=kernel_size, padding = kernel_size //2)\n",
        "    self.softmax = nn.Softmax(dim=-1)\n",
        "  \n",
        "  def forward(self,x):\n",
        "    # input: batch_size x features_num x seq_len\n",
        "    query = self.query_gen(x) # batch_size x out_ch x seq_len\n",
        "    keys = self.key_gen(x) # get keys, values (batch_size x out_ch x seq_len)\n",
        "    logits = torch.matmul(query.permute(0,2,1), keys) # square matrix (batch_size x seq_len x seq_len)\n",
        "    att_scores = self.softmax(logits) # (batch_size x seq_len x seq_len)\n",
        "    out = torch.matmul(att_scores, keys.permute(0,2,1))\n",
        "    out = out.permute(0,2,1)\n",
        "    # output: batch_size x out_ch x seq_len\n",
        "    return out\n"
      ],
      "metadata": {
        "id": "c_c3impWnXfC"
      },
      "execution_count": 24,
      "outputs": []
    },
    {
      "cell_type": "code",
      "source": [
        "class MultiHeadSelfAttention(nn.Module):\n",
        "  def __init__(self, emb_size, kernel_size=3, device='cpu'):\n",
        "    super().__init__()\n",
        "    self.device = device\n",
        "    layers = []\n",
        "    for _ in range(emb_size):\n",
        "      layers.append(\n",
        "          nn.Sequential(SelfAttention(in_ch=emb_size, out_ch=1, kernel_size=kernel_size))\n",
        "      )\n",
        "    self.layers = nn.ModuleList(layers)\n",
        "  def forward(self,x):\n",
        "    # input: batch x features_num x seq_len\n",
        "    out = torch.tensor([]).to(self.device)\n",
        "    for self_att in self.layers:\n",
        "      att = self_att(x) # batch x (1 x seq_len) \n",
        "      att = att.to(self.device)\n",
        "      out = torch.cat((out,att), dim = 1 )\n",
        "      \n",
        "    # output: batch x features_num x seq_len\n",
        "    \n",
        "    return out\n",
        "\n"
      ],
      "metadata": {
        "id": "0e1Wd3Ve0EYu"
      },
      "execution_count": 25,
      "outputs": []
    },
    {
      "cell_type": "code",
      "source": [
        "class TransformerEncoderLayer(nn.Module):\n",
        "  def __init__(self, emb_size, device='cpu'):\n",
        "    super().__init__()\n",
        "    self.MH_att = MultiHeadSelfAttention(emb_size,11, device=device)\n",
        "    self.norm1 = nn.LayerNorm(emb_size)\n",
        "    self.ln1 = nn.Linear(emb_size, emb_size)\n",
        "    self.relu = nn.ReLU()\n",
        "    self.ln2 = nn.Linear(emb_size, emb_size)\n",
        "    self.norm2 = nn.LayerNorm(emb_size)\n",
        "  def forward(self,x):\n",
        "    # input: batch X features_num X seq_len\n",
        "    x = x + self.MH_att(x)\n",
        "    x = self.norm1(x.permute(0,2,1))\n",
        "\n",
        "    x_1 = self.ln1(x)\n",
        "    x_1 = self.relu(x_1)\n",
        "    x_1 = self.ln2(x_1)\n",
        "\n",
        "    x = self.norm2(x + x_1)\n",
        "    x = x.permute(0,2,1)\n",
        "    # output: batch X features_num X seq_len\n",
        "    return x"
      ],
      "metadata": {
        "id": "-Kq6BwDhfdXa"
      },
      "execution_count": 26,
      "outputs": []
    },
    {
      "cell_type": "markdown",
      "source": [
        "# **Torch model**"
      ],
      "metadata": {
        "id": "GC6oCdbsGhDR"
      }
    },
    {
      "cell_type": "code",
      "source": [
        "# Модель\n",
        "class MultiAttClassifier(nn.Module):\n",
        "  def __init__(self,voc_size,emb_size,seq_len,out_features=17, embedding=None, device='cpu'):\n",
        "    super().__init__()\n",
        "    self.device = device\n",
        "    self.MH_att_1 = MultiHeadSelfAttention(emb_size, 11,device)\n",
        "    self.MH_att_2 = MultiHeadSelfAttention(emb_size,3,device)\n",
        "    self.att1 = SimpleAttention(emb_size)\n",
        "    self.att2 = SimpleAttention(emb_size)\n",
        "    self.bn1 = nn.BatchNorm1d(emb_size)\n",
        "    self.ln1 = nn.Linear(emb_size, emb_size//4)\n",
        "    self.relu = nn.ReLU()\n",
        "    self.out = nn.Linear(emb_size//4, out_features) \n",
        "    self.softmax = nn.Softmax(-1)\n",
        "\n",
        "    if embedding is None:\n",
        "      self.embedding = nn.Embedding(voc_size, emb_size, padding_idx=0)\n",
        "    else:\n",
        "      self.embedding = embedding    \n",
        "\n",
        "  \n",
        "  def forward(self, x_1, x_2, predict=False):\n",
        "\n",
        "    x_1 = self.embedding(x_1).permute(0,2,1)\n",
        "    x_1 = self.MH_att_1(x_1) # batch X emb_size X seq_len_1\n",
        "    x_1 = self.bn1(x_1)\n",
        "\n",
        "    x_2 = self.embedding(x_2).permute(0,2,1)\n",
        "    x_2 = self.MH_att_2(x_2) # batch X emb_size X seq_len_2\n",
        "    x_2 = self.bn1(x_2)\n",
        "\n",
        "\n",
        "    x_1 = self.att1(x_1) # batch X 1 X emb_size\n",
        "    x_2 = self.att2(x_2) # batch X 1 X emb_size\n",
        "\n",
        "    x = (x_1 + x_2)/2\n",
        "    x = x.squeeze(1)\n",
        "\n",
        "    x = self.ln1(x)\n",
        "    x = self.relu(x)\n",
        "    out = self.out(x)\n",
        "    if predict:\n",
        "      out = self.softmax(out)\n",
        "    return out"
      ],
      "metadata": {
        "id": "2BNq9MZ4ZS9O"
      },
      "execution_count": 27,
      "outputs": []
    },
    {
      "cell_type": "markdown",
      "source": [
        "# **Prepare Dataset**"
      ],
      "metadata": {
        "id": "Iws1rb0wOJTd"
      }
    },
    {
      "cell_type": "code",
      "source": [
        "# Здесь и далее - подготовка данных к обучению\n",
        "train_data['Текст Сообщения'].to_csv('texts.txt', index=False, header=False)\n",
        "BPE_VOC_SIZE = 1500\n",
        "train_data_path = \"texts.txt\"\n",
        "model_path = \"bpe_text.model\"\n",
        "yttm.BPE.train(data=train_data_path, vocab_size=BPE_VOC_SIZE, model=model_path)\n",
        "bpe_text = yttm.BPE(model=model_path)\n",
        "# ' '.join(bpe_text.vocab())"
      ],
      "metadata": {
        "id": "OkGWGfA_da3v"
      },
      "execution_count": null,
      "outputs": []
    },
    {
      "cell_type": "code",
      "source": [
        "data = train_data.append(train_data.groupby('Категория').filter(lambda x : len(x) < 2))\n",
        "for i in range(5):\n",
        "  data = data.append(train_data.groupby('Категория').filter(lambda x : len(x) < 2))"
      ],
      "metadata": {
        "id": "z--W_GZLswNm"
      },
      "execution_count": 29,
      "outputs": []
    },
    {
      "cell_type": "code",
      "source": [
        "train_X = data[['Текст Сообщения', 'Тематика']]\n",
        "train_Y = data['Категория']\n",
        "X_train, X_val, y_train, y_val = train_test_split(train_X,train_Y, test_size=0.2, random_state=SEED, stratify=train_Y)"
      ],
      "metadata": {
        "id": "z9WiTlprV4Ub"
      },
      "execution_count": 30,
      "outputs": []
    },
    {
      "cell_type": "code",
      "source": [
        "len(y_val.unique()), len(y_train.unique())"
      ],
      "metadata": {
        "colab": {
          "base_uri": "https://localhost:8080/"
        },
        "id": "1g96fPud2RVT",
        "outputId": "0598d1d0-9a7d-4252-b235-c70cdc8df1e2"
      },
      "execution_count": 31,
      "outputs": [
        {
          "output_type": "execute_result",
          "data": {
            "text/plain": [
              "(17, 17)"
            ]
          },
          "metadata": {},
          "execution_count": 31
        }
      ]
    },
    {
      "cell_type": "code",
      "source": [
        "train = pd.DataFrame(X_train).join(y_train)"
      ],
      "metadata": {
        "id": "SD-WbFNXvxQq"
      },
      "execution_count": 32,
      "outputs": []
    },
    {
      "cell_type": "code",
      "source": [
        "for i in range(3):\n",
        "  rare_rows = train.groupby('Категория').filter(lambda x : len(x) < 50)\n",
        "  rare_cats = rare_rows['Категория'].unique()\n",
        "  for i in range(train.shape[0]):\n",
        "    row = train.iloc[[i]]\n",
        "    category = row['Категория'].values[0]\n",
        "    if category in rare_cats:\n",
        "      train = train.append(row)"
      ],
      "metadata": {
        "id": "jnCeOdDHxAUa"
      },
      "execution_count": 33,
      "outputs": []
    },
    {
      "cell_type": "code",
      "source": [
        "train['Категория'].value_counts()"
      ],
      "metadata": {
        "colab": {
          "base_uri": "https://localhost:8080/"
        },
        "id": "WXzE0eClyjiX",
        "outputId": "254f4215-1cb6-4828-eef5-b303791272d8"
      },
      "execution_count": 34,
      "outputs": [
        {
          "output_type": "execute_result",
          "data": {
            "text/plain": [
              "3     763\n",
              "0     382\n",
              "16    119\n",
              "8     111\n",
              "7      88\n",
              "4      86\n",
              "1      80\n",
              "5      80\n",
              "10     76\n",
              "13     72\n",
              "12     72\n",
              "6      64\n",
              "11     60\n",
              "15     48\n",
              "9      32\n",
              "14     24\n",
              "2      16\n",
              "Name: Категория, dtype: int64"
            ]
          },
          "metadata": {},
          "execution_count": 34
        }
      ]
    },
    {
      "cell_type": "code",
      "source": [
        "X_train_text = train['Текст Сообщения'].to_numpy()\n",
        "X_train_themes = train['Тематика'].to_numpy()\n",
        "y_train = train['Категория'].to_numpy()\n",
        "\n",
        "X_val_text = X_val['Текст Сообщения'].to_numpy()\n",
        "X_val_themes = X_val['Тематика'].to_numpy()\n",
        "y_val = y_val.to_numpy()"
      ],
      "metadata": {
        "id": "cy3_nL3e01is"
      },
      "execution_count": 35,
      "outputs": []
    },
    {
      "cell_type": "code",
      "source": [
        "train_encoded = bpe_text.encode(X_train_text.tolist(),output_type=yttm.OutputType.ID)\n",
        "texts_lens = [len(text) for text in train_encoded]\n",
        "print(np.mean(texts_lens))\n",
        "print(np.median(texts_lens))\n",
        "print(max(texts_lens))\n",
        "train_encoded = [torch.tensor(text) for text in train_encoded]\n",
        "train_matrix_text = pad_sequence(train_encoded, batch_first=True).numpy()\n",
        "\n",
        "train_encoded = bpe_text.encode(X_train_themes.tolist(),output_type=yttm.OutputType.ID)\n",
        "texts_lens = [len(text) for text in train_encoded]\n",
        "print(np.mean(texts_lens))\n",
        "print(np.median(texts_lens))\n",
        "print(max(texts_lens))\n",
        "train_encoded = [torch.tensor(text) for text in train_encoded]\n",
        "train_matrix_themes = pad_sequence(train_encoded, batch_first=True).numpy()"
      ],
      "metadata": {
        "colab": {
          "base_uri": "https://localhost:8080/"
        },
        "id": "Vxf2vbnAfwJL",
        "outputId": "e00593d6-abdf-4093-d2a9-fb10be4136e0"
      },
      "execution_count": 36,
      "outputs": [
        {
          "output_type": "stream",
          "name": "stdout",
          "text": [
            "64.92268752876208\n",
            "42.0\n",
            "1279\n",
            "11.10124252185918\n",
            "10.0\n",
            "27\n"
          ]
        }
      ]
    },
    {
      "cell_type": "code",
      "source": [
        "val_encoded = bpe_text.encode(X_val_text.tolist(),output_type=yttm.OutputType.ID)\n",
        "val_encoded = [torch.tensor(text) for text in val_encoded]\n",
        "val_matrix_text = pad_sequence(val_encoded, batch_first=True).numpy()\n",
        "\n",
        "val_encoded = bpe_text.encode(X_val_themes.tolist(),output_type=yttm.OutputType.ID)\n",
        "val_encoded = [torch.tensor(text) for text in val_encoded]\n",
        "val_matrix_themes = pad_sequence(val_encoded, batch_first=True).numpy()"
      ],
      "metadata": {
        "id": "5CS4n5ykWP5Y"
      },
      "execution_count": 37,
      "outputs": []
    },
    {
      "cell_type": "code",
      "source": [
        "max_text_len = 130\n",
        "train_matrix_text = np.array([text[:max_text_len] for text in train_matrix_text])\n",
        "val_matrix_text = np.array([text[:max_text_len] for text in val_matrix_text])\n",
        "\n",
        "max_theme_len = 30\n",
        "train_matrix_themes = np.array([text[:max_theme_len] for text in train_matrix_themes])\n",
        "val_matrix_themes = np.array([text[:max_theme_len] for text in val_matrix_themes])"
      ],
      "metadata": {
        "id": "oFM-3QGMlQlh"
      },
      "execution_count": 38,
      "outputs": []
    },
    {
      "cell_type": "code",
      "source": [
        "test_X_text = test_dataset['Текст Сообщения'].to_numpy()\n",
        "test_X_theme = test_dataset['Тематика'].to_numpy()"
      ],
      "metadata": {
        "id": "KdzGpRrBIJTR"
      },
      "execution_count": 39,
      "outputs": []
    },
    {
      "cell_type": "code",
      "source": [
        "test_encoded = bpe_text.encode(test_X_text.tolist(),output_type=yttm.OutputType.ID)\n",
        "test_encoded = [torch.tensor(text) for text in test_encoded]\n",
        "test_matrix = pad_sequence(test_encoded, batch_first=True).numpy()\n",
        "test_matrix_text = np.array([text[:max_text_len] for text in test_matrix])\n",
        "\n",
        "test_encoded = bpe_text.encode(test_X_theme.tolist(),output_type=yttm.OutputType.ID)\n",
        "test_encoded = [torch.tensor(text) for text in test_encoded]\n",
        "test_matrix = pad_sequence(test_encoded, batch_first=True).numpy()\n",
        "test_matrix_themes = np.array([text[:max_theme_len] for text in test_matrix])"
      ],
      "metadata": {
        "id": "YXPH4TRgkx2M"
      },
      "execution_count": 40,
      "outputs": []
    },
    {
      "cell_type": "code",
      "source": [
        "train_matrix_text.shape, val_matrix_text.shape,  test_matrix_text.shape"
      ],
      "metadata": {
        "colab": {
          "base_uri": "https://localhost:8080/"
        },
        "id": "s_BdTtHpW9P_",
        "outputId": "fdec457c-64cd-4b7c-cc74-8307e746dfbf"
      },
      "execution_count": 41,
      "outputs": [
        {
          "output_type": "execute_result",
          "data": {
            "text/plain": [
              "((2173, 130), (402, 130), (1000, 130))"
            ]
          },
          "metadata": {},
          "execution_count": 41
        }
      ]
    },
    {
      "cell_type": "code",
      "source": [
        "train_matrix_themes.shape, val_matrix_themes.shape,  test_matrix_themes.shape"
      ],
      "metadata": {
        "id": "4JcRt1MQX8LU",
        "colab": {
          "base_uri": "https://localhost:8080/"
        },
        "outputId": "b64d260a-0d25-407c-e024-0a7757273325"
      },
      "execution_count": 42,
      "outputs": [
        {
          "output_type": "execute_result",
          "data": {
            "text/plain": [
              "((2173, 27), (402, 24), (1000, 27))"
            ]
          },
          "metadata": {},
          "execution_count": 42
        }
      ]
    },
    {
      "cell_type": "code",
      "source": [
        "train_d = TwoTextsDataset(train_matrix_text,train_matrix_themes, y_train)\n",
        "train_dataloader = DataLoader(train_d,batch_size=100, shuffle=True, drop_last=True)\n",
        "\n",
        "val_d = TwoTextsDataset(val_matrix_text,val_matrix_themes, y_val)\n",
        "val_dataloader = DataLoader(val_d,batch_size=100, shuffle=True, drop_last=True)\n",
        "\n",
        "test_d = TwoTextsDataset(test_matrix_text, test_matrix_themes)\n",
        "test_dataloader = DataLoader(test_d, batch_size=test_matrix.shape[0])"
      ],
      "metadata": {
        "id": "e4eVBU7OS-yL"
      },
      "execution_count": 43,
      "outputs": []
    },
    {
      "cell_type": "code",
      "source": [
        "n_classes = len(train_data['Категория'].unique())"
      ],
      "metadata": {
        "id": "chNBzMAWN1gC"
      },
      "execution_count": 44,
      "outputs": []
    },
    {
      "cell_type": "markdown",
      "source": [
        "# **Train model**"
      ],
      "metadata": {
        "id": "S0OyO5vTgn9x"
      }
    },
    {
      "cell_type": "code",
      "source": [
        "# Тренируем модель\n",
        "model_1 = MultiAttClassifier(voc_size=BPE_VOC_SIZE, emb_size=75, \n",
        "                                seq_len=max_text_len, out_features=n_classes, device=device)\n",
        "model_1 = model_1.to(device)\n",
        "criterion = nn.CrossEntropyLoss()\n",
        "optimizer = optim.Adam(model_1.parameters())"
      ],
      "metadata": {
        "id": "1taxbz3bSwHk"
      },
      "execution_count": 45,
      "outputs": []
    },
    {
      "cell_type": "code",
      "source": [
        "best_model_1, best_loss = train_model(model_1, 25, optimizer, criterion, train_dataloader, val_dataloader,device=device)"
      ],
      "metadata": {
        "colab": {
          "base_uri": "https://localhost:8080/",
          "height": 300
        },
        "id": "btfaehsnSbT-",
        "outputId": "383692b2-6daa-440f-8ba4-bf9c4fb8e568"
      },
      "execution_count": 46,
      "outputs": [
        {
          "output_type": "display_data",
          "data": {
            "text/plain": [
              "<Figure size 432x288 with 1 Axes>"
            ],
            "image/png": "[encoded data removed]"
          },
          "metadata": {
            "needs_background": "light"
          }
        },
        {
          "output_type": "stream",
          "name": "stdout",
          "text": [
            "Epoch: 24. Mean train Loss:0.00036880956031382084 \n",
            "Epoch: 24. Mean val Loss:0.1615791916847229 \n"
          ]
        }
      ]
    },
    {
      "cell_type": "code",
      "source": [
        "best_loss"
      ],
      "metadata": {
        "colab": {
          "base_uri": "https://localhost:8080/"
        },
        "id": "nw7YwMFV-AAt",
        "outputId": "1104cca8-fc15-449b-e7e4-cf6f98615470"
      },
      "execution_count": 47,
      "outputs": [
        {
          "output_type": "execute_result",
          "data": {
            "text/plain": [
              "0.15573451"
            ]
          },
          "metadata": {},
          "execution_count": 47
        }
      ]
    },
    {
      "cell_type": "code",
      "source": [
        "pred_test = predict_with_model(best_model_1, test_dataloader)"
      ],
      "metadata": {
        "id": "9chO0uQ8Svg2"
      },
      "execution_count": 48,
      "outputs": []
    },
    {
      "cell_type": "code",
      "source": [
        "pred_df = pd.DataFrame()\n",
        "pred_df['id'] = test_dataset['id']\n",
        "pred_df['Категория'] = pred_test\n",
        "# pred_df.to_csv('submit.csv', index=False)\n",
        "pred_df.head(3)"
      ],
      "metadata": {
        "colab": {
          "base_uri": "https://localhost:8080/",
          "height": 143
        },
        "id": "aPe4ByyfakwU",
        "outputId": "42c9058b-419c-4cad-8082-2fabbfaca74d"
      },
      "execution_count": 49,
      "outputs": [
        {
          "output_type": "execute_result",
          "data": {
            "text/plain": [
              "     id  Категория\n",
              "0   843          3\n",
              "1  1422          3\n",
              "2  2782          3"
            ],
            "text/html": [
              "\n",
              "  <div id=\"df-a116f900-6afc-4e29-b5d2-498088b66d14\">\n",
              "    <div class=\"colab-df-container\">\n",
              "      <div>\n",
              "<style scoped>\n",
              "    .dataframe tbody tr th:only-of-type {\n",
              "        vertical-align: middle;\n",
              "    }\n",
              "\n",
              "    .dataframe tbody tr th {\n",
              "        vertical-align: top;\n",
              "    }\n",
              "\n",
              "    .dataframe thead th {\n",
              "        text-align: right;\n",
              "    }\n",
              "</style>\n",
              "<table border=\"1\" class=\"dataframe\">\n",
              "  <thead>\n",
              "    <tr style=\"text-align: right;\">\n",
              "      <th></th>\n",
              "      <th>id</th>\n",
              "      <th>Категория</th>\n",
              "    </tr>\n",
              "  </thead>\n",
              "  <tbody>\n",
              "    <tr>\n",
              "      <th>0</th>\n",
              "      <td>843</td>\n",
              "      <td>3</td>\n",
              "    </tr>\n",
              "    <tr>\n",
              "      <th>1</th>\n",
              "      <td>1422</td>\n",
              "      <td>3</td>\n",
              "    </tr>\n",
              "    <tr>\n",
              "      <th>2</th>\n",
              "      <td>2782</td>\n",
              "      <td>3</td>\n",
              "    </tr>\n",
              "  </tbody>\n",
              "</table>\n",
              "</div>\n",
              "      <button class=\"colab-df-convert\" onclick=\"convertToInteractive('df-a116f900-6afc-4e29-b5d2-498088b66d14')\"\n",
              "              title=\"Convert this dataframe to an interactive table.\"\n",
              "              style=\"display:none;\">\n",
              "        \n",
              "  <svg xmlns=\"http://www.w3.org/2000/svg\" height=\"24px\"viewBox=\"0 0 24 24\"\n",
              "       width=\"24px\">\n",
              "    <path d=\"M0 0h24v24H0V0z\" fill=\"none\"/>\n",
              "    <path d=\"M18.56 5.44l.94 2.06.94-2.06 2.06-.94-2.06-.94-.94-2.06-.94 2.06-2.06.94zm-11 1L8.5 8.5l.94-2.06 2.06-.94-2.06-.94L8.5 2.5l-.94 2.06-2.06.94zm10 10l.94 2.06.94-2.06 2.06-.94-2.06-.94-.94-2.06-.94 2.06-2.06.94z\"/><path d=\"M17.41 7.96l-1.37-1.37c-.4-.4-.92-.59-1.43-.59-.52 0-1.04.2-1.43.59L10.3 9.45l-7.72 7.72c-.78.78-.78 2.05 0 2.83L4 21.41c.39.39.9.59 1.41.59.51 0 1.02-.2 1.41-.59l7.78-7.78 2.81-2.81c.8-.78.8-2.07 0-2.86zM5.41 20L4 18.59l7.72-7.72 1.47 1.35L5.41 20z\"/>\n",
              "  </svg>\n",
              "      </button>\n",
              "      \n",
              "  <style>\n",
              "    .colab-df-container {\n",
              "      display:flex;\n",
              "      flex-wrap:wrap;\n",
              "      gap: 12px;\n",
              "    }\n",
              "\n",
              "    .colab-df-convert {\n",
              "      background-color: #E8F0FE;\n",
              "      border: none;\n",
              "      border-radius: 50%;\n",
              "      cursor: pointer;\n",
              "      display: none;\n",
              "      fill: #1967D2;\n",
              "      height: 32px;\n",
              "      padding: 0 0 0 0;\n",
              "      width: 32px;\n",
              "    }\n",
              "\n",
              "    .colab-df-convert:hover {\n",
              "      background-color: #E2EBFA;\n",
              "      box-shadow: 0px 1px 2px rgba(60, 64, 67, 0.3), 0px 1px 3px 1px rgba(60, 64, 67, 0.15);\n",
              "      fill: #174EA6;\n",
              "    }\n",
              "\n",
              "    [theme=dark] .colab-df-convert {\n",
              "      background-color: #3B4455;\n",
              "      fill: #D2E3FC;\n",
              "    }\n",
              "\n",
              "    [theme=dark] .colab-df-convert:hover {\n",
              "      background-color: #434B5C;\n",
              "      box-shadow: 0px 1px 3px 1px rgba(0, 0, 0, 0.15);\n",
              "      filter: drop-shadow(0px 1px 2px rgba(0, 0, 0, 0.3));\n",
              "      fill: #FFFFFF;\n",
              "    }\n",
              "  </style>\n",
              "\n",
              "      <script>\n",
              "        const buttonEl =\n",
              "          document.querySelector('#df-a116f900-6afc-4e29-b5d2-498088b66d14 button.colab-df-convert');\n",
              "        buttonEl.style.display =\n",
              "          google.colab.kernel.accessAllowed ? 'block' : 'none';\n",
              "\n",
              "        async function convertToInteractive(key) {\n",
              "          const element = document.querySelector('#df-a116f900-6afc-4e29-b5d2-498088b66d14');\n",
              "          const dataTable =\n",
              "            await google.colab.kernel.invokeFunction('convertToInteractive',\n",
              "                                                     [key], {});\n",
              "          if (!dataTable) return;\n",
              "\n",
              "          const docLinkHtml = 'Like what you see? Visit the ' +\n",
              "            '<a target=\"_blank\" href=https://colab.research.google.com/notebooks/data_table.ipynb>data table notebook</a>'\n",
              "            + ' to learn more about interactive tables.';\n",
              "          element.innerHTML = '';\n",
              "          dataTable['output_type'] = 'display_data';\n",
              "          await google.colab.output.renderOutput(dataTable, element);\n",
              "          const docLink = document.createElement('div');\n",
              "          docLink.innerHTML = docLinkHtml;\n",
              "          element.appendChild(docLink);\n",
              "        }\n",
              "      </script>\n",
              "    </div>\n",
              "  </div>\n",
              "  "
            ]
          },
          "metadata": {},
          "execution_count": 49
        }
      ]
    },
    {
      "cell_type": "code",
      "source": [
        "train_dataset['Категория'].value_counts()"
      ],
      "metadata": {
        "colab": {
          "base_uri": "https://localhost:8080/"
        },
        "id": "KEBJXtnin59E",
        "outputId": "147743ce-5d1f-43a2-c6f5-45e1986cadc9"
      },
      "execution_count": 50,
      "outputs": [
        {
          "output_type": "execute_result",
          "data": {
            "text/plain": [
              "3     954\n",
              "0     478\n",
              "16    149\n",
              "8     139\n",
              "4     108\n",
              "10     48\n",
              "7      27\n",
              "1      25\n",
              "11     19\n",
              "5      12\n",
              "13     11\n",
              "6      10\n",
              "15      7\n",
              "9       5\n",
              "14      4\n",
              "2       3\n",
              "12      1\n",
              "Name: Категория, dtype: int64"
            ]
          },
          "metadata": {},
          "execution_count": 50
        }
      ]
    },
    {
      "cell_type": "code",
      "source": [
        "pred_df['Категория'].value_counts()"
      ],
      "metadata": {
        "colab": {
          "base_uri": "https://localhost:8080/"
        },
        "id": "uFPfjboMnyLN",
        "outputId": "90534b0c-3e8f-4134-8cf1-3d666487f137"
      },
      "execution_count": 51,
      "outputs": [
        {
          "output_type": "execute_result",
          "data": {
            "text/plain": [
              "3     517\n",
              "0     235\n",
              "16     61\n",
              "8      58\n",
              "4      52\n",
              "10     27\n",
              "1      14\n",
              "7      13\n",
              "5       8\n",
              "11      5\n",
              "6       4\n",
              "15      3\n",
              "13      2\n",
              "2       1\n",
              "Name: Категория, dtype: int64"
            ]
          },
          "metadata": {},
          "execution_count": 51
        }
      ]
    }
  ]
}